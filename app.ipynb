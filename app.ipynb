{
 "cells": [
  {
   "cell_type": "code",
   "execution_count": null,
   "id": "4a4942a2",
   "metadata": {},
   "outputs": [],
   "source": [
    "from flask import Flask, render_template, request\n",
    "from tensorflow.keras.models import load_model\n",
    "import numpy as np\n",
    "import joblib\n",
    "\n",
    "# Loading the trained Keras model\n",
    "model = load_model('calorie_predictor_model.h5')\n",
    "scaler = joblib.load('scaler.pkl')  \n",
    "\n",
    "app = Flask(__name__)\n",
    "\n",
    "@app.route('/')\n",
    "def home():\n",
    "    return render_template('index.html')\n",
    "\n",
    "@app.route('/predict', methods=['POST'])\n",
    "def predict():\n",
    "    try:\n",
    "        gender = float(request.form['gender'])\n",
    "        age = float(request.form['age'])\n",
    "        height = float(request.form['height'])\n",
    "        weight = float(request.form['weight'])\n",
    "        duration = float(request.form['duration'])\n",
    "        heart_rate = float(request.form['heart_rate'])\n",
    "        body_temp = float(request.form['body_temp'])\n",
    "\n",
    "        # Prepare and scale input\n",
    "        input_data = np.array([[gender, age, height, weight, duration, heart_rate, body_temp]])\n",
    "        input_scaled = scaler.transform(input_data)\n",
    "\n",
    "        # Make prediction\n",
    "        prediction = model.predict(input_scaled)[0][0]\n",
    "\n",
    "        return render_template('index.html', prediction=f\"Calories Burnt: {prediction:.2f}\")\n",
    "    except Exception as e:\n",
    "        return render_template('index.html', prediction=f\"Error: {str(e)}\")\n",
    "\n",
    "if __name__ == '__main__':\n",
    "    app.run(debug=True)\n"
   ]
  }
 ],
 "metadata": {
  "kernelspec": {
   "display_name": "base",
   "language": "python",
   "name": "python3"
  },
  "language_info": {
   "codemirror_mode": {
    "name": "ipython",
    "version": 3
   },
   "file_extension": ".py",
   "mimetype": "text/x-python",
   "name": "python",
   "nbconvert_exporter": "python",
   "pygments_lexer": "ipython3",
   "version": "3.12.7"
  }
 },
 "nbformat": 4,
 "nbformat_minor": 5
}
